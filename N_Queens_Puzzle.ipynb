{
 "cells": [
  {
   "cell_type": "code",
   "execution_count": 260,
   "metadata": {},
   "outputs": [
    {
     "name": "stdout",
     "output_type": "stream",
     "text": [
      "Digite n de linhas e colunas11\n",
      "[['0' '0' '0' '0' '0' '0' '0' '0' '0' '0' '0']\n",
      " ['0' '0' '0' '0' '0' '0' '0' '0' '0' '0' '0']\n",
      " ['0' '0' '0' '0' '0' '0' '0' '0' '0' '0' '0']\n",
      " ['0' '0' '0' '0' '0' '0' '0' '0' '0' '0' '0']\n",
      " ['0' '0' '0' '0' '0' '0' '0' '0' '0' '0' '0']\n",
      " ['0' '0' '0' '0' '0' '0' '0' '0' '0' '0' '0']\n",
      " ['0' '0' '0' '0' '0' '0' '0' '0' '0' '0' '0']\n",
      " ['0' '0' '0' '0' '0' '0' '0' '0' '0' '0' '0']\n",
      " ['0' '0' '0' '0' '0' '0' '0' '0' '0' '0' '0']\n",
      " ['0' '0' '0' '0' '0' '0' '0' '0' '0' '0' '0']\n",
      " ['0' '0' '0' '0' '0' '0' '0' '0' '0' '0' '0']]\n"
     ]
    }
   ],
   "source": [
    "import numpy as np\n",
    "\n",
    "n= input(\"Digite n de linhas e colunas\")\n",
    "n=int(n)\n",
    "square=n*n\n",
    "x=[]\n",
    "for i in range (0,square):\n",
    "    x.append(\"0\")\n",
    "x = np.reshape(x,(n, n))\n",
    "Test=0\n",
    "Initial_Test=0\n",
    "print (x)"
   ]
  },
  {
   "cell_type": "code",
   "execution_count": 261,
   "metadata": {},
   "outputs": [],
   "source": [
    "def check_line(line,n):\n",
    "    for i in range (n):\n",
    "        if x[line,i]==\"*\":\n",
    "            return False\n",
    "    return True"
   ]
  },
  {
   "cell_type": "code",
   "execution_count": 262,
   "metadata": {},
   "outputs": [],
   "source": [
    "def check_column(n,column):\n",
    "    for i in range (n):\n",
    "        if x[i,column]==\"*\":\n",
    "            return False\n",
    "    return True\n",
    "\n",
    "def check_diagonal(n,line,column):\n",
    "    for i,j in zip(range(n), range(n)):\n",
    "        if i<=line and j<=column:\n",
    "            if x[line-i,column-j]==\"*\":\n",
    "                return False\n",
    "        elif i+line<n and j+column<n:\n",
    "            if x[line+i,column+j]==\"*\":\n",
    "                return False\n",
    "    return True\n",
    "\n",
    "def check_number (n):\n",
    "    for line in range(n):\n",
    "        for column in range(n):\n",
    "            if x[line,column] == \"*\":\n",
    "                global Test\n",
    "                Test+=1\n",
    "                \n",
    "    return Test           \n",
    "    "
   ]
  },
  {
   "cell_type": "code",
   "execution_count": 263,
   "metadata": {},
   "outputs": [
    {
     "name": "stdout",
     "output_type": "stream",
     "text": [
      "[['*' '0' '0' '0' '0' '0' '0' '0' '0' '0' '0']\n",
      " ['0' '0' '0' '0' '0' '0' '*' '0' '0' '0' '0']\n",
      " ['0' '*' '0' '0' '0' '0' '0' '0' '0' '0' '0']\n",
      " ['0' '0' '0' '0' '0' '0' '0' '*' '0' '0' '0']\n",
      " ['0' '0' '*' '0' '0' '0' '0' '0' '0' '0' '0']\n",
      " ['0' '0' '0' '0' '0' '0' '0' '0' '*' '0' '0']\n",
      " ['0' '0' '0' '*' '0' '0' '0' '0' '0' '0' '0']\n",
      " ['0' '0' '0' '0' '0' '0' '0' '0' '0' '*' '0']\n",
      " ['0' '0' '0' '0' '*' '0' '0' '0' '0' '0' '0']\n",
      " ['0' '0' '0' '0' '0' '0' '0' '0' '0' '0' '*']\n",
      " ['0' '0' '0' '0' '0' '*' '0' '0' '0' '0' '0']]\n",
      "11\n"
     ]
    }
   ],
   "source": [
    "for j in range(1):\n",
    "    if n%2==0:\n",
    "        m=int(n/2)\n",
    "    else:\n",
    "        m=int((n+1)/2)\n",
    "    for line,column in zip(range(0,n,2), range(int(m))):\n",
    "            x[line,column]=\"*\"\n",
    "    for line,column in zip(range(1,n,2), range(m,n,1)):\n",
    "            x[line,column]=\"*\" \n",
    "                \n",
    "print(x) \n",
    "print(check_number(n))"
   ]
  },
  {
   "cell_type": "code",
   "execution_count": null,
   "metadata": {},
   "outputs": [],
   "source": [
    "    "
   ]
  },
  {
   "cell_type": "code",
   "execution_count": null,
   "metadata": {},
   "outputs": [],
   "source": []
  }
 ],
 "metadata": {
  "kernelspec": {
   "display_name": "Python 3",
   "language": "python",
   "name": "python3"
  }
 },
 "nbformat": 4,
 "nbformat_minor": 2
}
