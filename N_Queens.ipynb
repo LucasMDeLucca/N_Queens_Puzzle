{
 "cells": [
  {
   "cell_type": "code",
   "execution_count": 1,
   "metadata": {},
   "outputs": [
    {
     "name": "stdout",
     "output_type": "stream",
     "text": [
      "Digite n de linhas e colunas6\n",
      "[['*' '0' '0' '0' '0' '0']\n",
      " ['0' '0' '0' '*' '0' '0']\n",
      " ['0' '*' '0' '0' '0' '0']\n",
      " ['0' '0' '0' '0' '*' '0']\n",
      " ['0' '0' '*' '0' '0' '0']\n",
      " ['0' '0' '0' '0' '0' '*']]\n"
     ]
    }
   ],
   "source": [
    "import numpy as np\n",
    "\n",
    "n= input(\"Input the number of rows and columns\")\n",
    "n=int(n)\n",
    "square=n*n\n",
    "x=[]\n",
    "for i in range (0,square):\n",
    "    x.append(\"0\")\n",
    "x = np.reshape(x,(n, n))\n",
    "for j in range(1):\n",
    "    if n%2==0:\n",
    "        m=int(n/2)\n",
    "    else:\n",
    "        m=int((n+1)/2)\n",
    "    for line,column in zip(range(0,n,2), range(int(m))):\n",
    "            x[line,column]=\"*\"\n",
    "    for line,column in zip(range(1,n,2), range(m,n,1)):\n",
    "            x[line,column]=\"*\" \n",
    "                \n",
    "print(x)"
   ]
  },
  {
   "cell_type": "code",
   "execution_count": null,
   "metadata": {},
   "outputs": [],
   "source": []
  }
 ],
 "metadata": {
  "kernelspec": {
   "display_name": "Python 3",
   "language": "python",
   "name": "python3"
  },
  "language_info": {
   "codemirror_mode": {
    "name": "ipython",
    "version": 3
   },
   "file_extension": ".py",
   "mimetype": "text/x-python",
   "name": "python",
   "nbconvert_exporter": "python",
   "pygments_lexer": "ipython3",
   "version": "3.7.4"
  }
 },
 "nbformat": 4,
 "nbformat_minor": 2
}
